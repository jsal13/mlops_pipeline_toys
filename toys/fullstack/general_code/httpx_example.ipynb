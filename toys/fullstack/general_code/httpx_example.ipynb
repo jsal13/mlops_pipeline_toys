{
 "cells": [
  {
   "cell_type": "code",
   "execution_count": 1,
   "metadata": {},
   "outputs": [],
   "source": [
    "import httpx\n",
    "\n",
    "# Optionally install the CLI:\n",
    "# $ pip install 'httpx[cli]'"
   ]
  },
  {
   "cell_type": "code",
   "execution_count": 15,
   "metadata": {},
   "outputs": [
    {
     "name": "stdout",
     "output_type": "stream",
     "text": [
      "{\n",
      "  \"args\": {}, \n",
      "  \"headers\": {\n",
      "    \"Accept\": \"*/*\", \n",
      "    \"Accept-Encoding\": \"gzip, deflate\", \n",
      "    \"Host\": \"httpbin.org\", \n",
      "    \"User-Agent\": \"python-httpx/0.27.2\", \n",
      "    \"X-Amzn-Trace-Id\": \"Root=1-67099587-111a5ab77ffdd518432aaf90\"\n",
      "  }, \n",
      "  \"origin\": \"205.178.35.9\", \n",
      "  \"url\": \"https://httpbin.org/get\"\n",
      "}\n",
      "\n",
      "{'args': {}, 'headers': {'Accept': '*/*', 'Accept-Encoding': 'gzip, deflate', 'Host': 'httpbin.org', 'User-Agent': 'python-httpx/0.27.2', 'X-Amzn-Trace-Id': 'Root=1-67099587-111a5ab77ffdd518432aaf90'}, 'origin': '205.178.35.9', 'url': 'https://httpbin.org/get'}\n"
     ]
    }
   ],
   "source": [
    "resp = httpx.get(\"https://httpbin.org/get\")\n",
    "print(resp.text)\n",
    "print(resp.json())  # Same as text, in a JSON object."
   ]
  },
  {
   "cell_type": "code",
   "execution_count": 16,
   "metadata": {},
   "outputs": [],
   "source": [
    "# POST like normal.\n",
    "r = httpx.post('https://httpbin.org/post', data={'key': 'value'})"
   ]
  },
  {
   "cell_type": "code",
   "execution_count": 17,
   "metadata": {},
   "outputs": [],
   "source": [
    "# Using query params.\n",
    "params = {'key1': 'value1', 'key2': 'value2'}\n",
    "r = httpx.get('https://httpbin.org/get', params=params)"
   ]
  },
  {
   "cell_type": "code",
   "execution_count": null,
   "metadata": {},
   "outputs": [],
   "source": []
  },
  {
   "cell_type": "code",
   "execution_count": null,
   "metadata": {},
   "outputs": [],
   "source": []
  }
 ],
 "metadata": {
  "kernelspec": {
   "display_name": ".venv",
   "language": "python",
   "name": "python3"
  },
  "language_info": {
   "codemirror_mode": {
    "name": "ipython",
    "version": 3
   },
   "file_extension": ".py",
   "mimetype": "text/x-python",
   "name": "python",
   "nbconvert_exporter": "python",
   "pygments_lexer": "ipython3",
   "version": "3.10.14"
  }
 },
 "nbformat": 4,
 "nbformat_minor": 2
}
