{
 "cells": [
  {
   "cell_type": "code",
   "execution_count": 1,
   "metadata": {},
   "outputs": [],
   "source": [
    "from dataclasses import dataclass, asdict\n",
    "\n",
    "from sklearn.pipeline import Pipeline\n",
    "import pandas as pd\n",
    "import psycopg\n",
    "import altair as alt\n",
    "import numpy as np\n",
    "import matplotlib.pyplot as plt\n",
    "\n",
    "from toys.ds_models.sensor_event_model.model import EventModel\n",
    "\n",
    "pd.options.display.max_rows = 200"
   ]
  },
  {
   "cell_type": "code",
   "execution_count": 2,
   "metadata": {},
   "outputs": [
    {
     "name": "stderr",
     "output_type": "stream",
     "text": [
      "/tmp/ipykernel_25188/3267091148.py:6: UserWarning: pandas only supports SQLAlchemy connectable (engine/connection) or database string URI or sqlite3 DBAPI2 connection. Other DBAPI2 objects are not tested. Please consider using SQLAlchemy.\n",
      "  df = pd.read_sql(sql=\"SELECT * FROM events;\", con=conn)\n"
     ]
    }
   ],
   "source": [
    "PG_CONNECTION_STRING = (\n",
    "    \"postgresql://localhost:5432/postgres?user=postgres&password=example\"\n",
    ")\n",
    "conn = psycopg.connect(conninfo=PG_CONNECTION_STRING)\n",
    "with conn:  # pylint: disable=not-context-manager\n",
    "    df = pd.read_sql(sql=\"SELECT * FROM events;\", con=conn)"
   ]
  },
  {
   "cell_type": "code",
   "execution_count": 5,
   "metadata": {},
   "outputs": [
    {
     "name": "stderr",
     "output_type": "stream",
     "text": [
      "/home/james/repos/mlops_toys/toys/ds_models/sensor_event_model/model.py:42: UserWarning: pandas only supports SQLAlchemy connectable (engine/connection) or database string URI or sqlite3 DBAPI2 connection. Other DBAPI2 objects are not tested. Please consider using SQLAlchemy.\n",
      "  df = pd.read_sql(sql=\"SELECT * FROM events LIMIT 500;\", con=conn)\n"
     ]
    },
    {
     "data": {
      "text/plain": [
       "array([0])"
      ]
     },
     "execution_count": 5,
     "metadata": {},
     "output_type": "execute_result"
    }
   ],
   "source": [
    "em = EventModel()\n",
    "em.train_model()\n",
    "em.score_model()\n",
    "\n",
    "@dataclass\n",
    "class Row:\n",
    "    \"\"\"Represent a row of data.\"\"\"\n",
    "\n",
    "    sensor_id: int\n",
    "    value_1: int\n",
    "    value_2: float\n",
    "    value_3: float\n",
    "    heat_index: float\n",
    "    power: str\n",
    "\n",
    "row = Row(sensor_id=1, value_1=1, value_2=2.0, value_3=3.0, heat_index=0.234, power=\"HIGH\")\n",
    "df_row = pd.DataFrame(asdict(row), index=[0])\n",
    "em.clf.predict(df_row)"
   ]
  },
  {
   "cell_type": "code",
   "execution_count": null,
   "metadata": {},
   "outputs": [],
   "source": []
  },
  {
   "cell_type": "code",
   "execution_count": null,
   "metadata": {},
   "outputs": [],
   "source": []
  }
 ],
 "metadata": {
  "kernelspec": {
   "display_name": ".venv",
   "language": "python",
   "name": "python3"
  },
  "language_info": {
   "codemirror_mode": {
    "name": "ipython",
    "version": 3
   },
   "file_extension": ".py",
   "mimetype": "text/x-python",
   "name": "python",
   "nbconvert_exporter": "python",
   "pygments_lexer": "ipython3",
   "version": "3.10.6"
  },
  "orig_nbformat": 4
 },
 "nbformat": 4,
 "nbformat_minor": 2
}
