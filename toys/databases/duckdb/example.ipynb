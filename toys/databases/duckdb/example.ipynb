{
 "cells": [
  {
   "cell_type": "code",
   "execution_count": null,
   "metadata": {},
   "outputs": [],
   "source": [
    "import duckdb\n",
    "import polars as pl  # Or you can use pandas here.\n",
    "\n",
    "# NOTE: THE PYTHON API IS KIND OF \"EH\" SO WE'RE GOING TO USE THE SQL."
   ]
  },
  {
   "cell_type": "code",
   "execution_count": null,
   "metadata": {},
   "outputs": [],
   "source": [
    "# We can read json, csv, parquet, etc. into a Relation.\n",
    "ddb_customers = duckdb.read_csv(\"./data/raw_customers.csv\", header=True).set_alias(\n",
    "    \"customers\"\n",
    ")\n",
    "ddb_orders = duckdb.read_csv(\"./data/raw_orders.csv\", header=True).set_alias(\"orders\")\n",
    "ddb_items = duckdb.read_csv(\"./data/raw_items.csv\", header=True).set_alias(\"items\")\n",
    "ddb_stores = duckdb.read_csv(\"./data/raw_stores.csv\", header=True).set_alias(\"stores\")\n",
    "ddb_products = duckdb.read_csv(\"./data/raw_products.csv\", header=True).set_alias(\n",
    "    \"products\"\n",
    ")\n",
    "\n",
    "# # Basic Operations\n",
    "ddb_customer_orders = duckdb.sql(\n",
    "    \"\"\" \n",
    "SELECT                 \n",
    "    customers.id\n",
    "    , customers.name customer_name\n",
    "    , products.type product_type\n",
    "    , products.price\n",
    "FROM\n",
    "    ddb_customers customers \n",
    "    join ddb_orders orders ON customers.id = orders.customer \n",
    "    join ddb_items items ON orders.id = items.order_id\n",
    "    join ddb_products products on items.sku = products.sku            \n",
    "\"\"\"\n",
    ")"
   ]
  },
  {
   "cell_type": "code",
   "execution_count": null,
   "metadata": {},
   "outputs": [],
   "source": [
    "# Agg by name, product type.\n",
    "ddb_agg_price = duckdb.sql(\n",
    "    \"\"\"\n",
    "SELECT \n",
    "    customer_name\n",
    "    , product_type \n",
    "    , sum(price) as total_price\n",
    "FROM \n",
    "    ddb_customer_orders \n",
    "GROUP BY \n",
    "    customer_name\n",
    "    , product_type\n",
    "ORDER BY\n",
    "    customer_name\n",
    "    , product_type                       \n",
    "\"\"\"\n",
    ")\n",
    "\n",
    "ddb_agg_price.show()"
   ]
  },
  {
   "cell_type": "code",
   "execution_count": null,
   "metadata": {},
   "outputs": [],
   "source": [
    "# Persistent storage\n",
    "# REF: https://duckdb.org/docs/api/python/dbapi\n",
    "with duckdb.connect(\"example.db\") as con:\n",
    "    con.sql(\n",
    "        \"CREATE TABLE IF NOT EXISTS customers AS FROM read_csv('./data/raw_customers.csv', header=True, AUTO_DETECT=TRUE)\"\n",
    "    )\n",
    "\n",
    "    results = con.query(\"SELECT * FROM customers LIMIT 5\")\n",
    "    print(results)"
   ]
  }
 ],
 "metadata": {
  "kernelspec": {
   "display_name": "base",
   "language": "python",
   "name": "python3"
  },
  "language_info": {
   "codemirror_mode": {
    "name": "ipython",
    "version": 3
   },
   "file_extension": ".py",
   "mimetype": "text/x-python",
   "name": "python",
   "nbconvert_exporter": "python",
   "pygments_lexer": "ipython3",
   "version": "3.10.12"
  }
 },
 "nbformat": 4,
 "nbformat_minor": 2
}
