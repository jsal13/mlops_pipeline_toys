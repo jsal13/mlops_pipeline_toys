{
 "cells": [
  {
   "cell_type": "markdown",
   "metadata": {},
   "source": [
    "# Pandera\n",
    "\n",
    "> pandera is a Union.ai open source project that provides a flexible and expressive API for performing data validation on dataframe-like objects to make data processing pipelines more readable and robust. Dataframes contain information that pandera explicitly validates at runtime.\n",
    "\n",
    "**REF**: https://pandera.readthedocs.io/en/stable/\n",
    "\n",
    "## Last Updated\n",
    "\n",
    "2023-11-18"
   ]
  },
  {
   "cell_type": "code",
   "execution_count": 2,
   "metadata": {},
   "outputs": [],
   "source": [
    "import pandas as pd\n",
    "import pandera as pa"
   ]
  },
  {
   "cell_type": "code",
   "execution_count": 27,
   "metadata": {},
   "outputs": [],
   "source": [
    "# Data to validate.\n",
    "\n",
    "df = pd.DataFrame({\n",
    "    \"col1\": [1, 4, 0, 10, 9, None],\n",
    "    \"col2\": [-1.3, -1.4, -2.9, -10.1, -20.4, -10], \n",
    "    \"col3\": [\"value_1\", \"value_2\", \"value_3\", \"value_2\", \"value_1\", \"value_1\"],\n",
    "})\n",
    "df = df.astype({\"col1\": pd.Int64Dtype(), \"col2\": float})"
   ]
  },
  {
   "cell_type": "code",
   "execution_count": 30,
   "metadata": {},
   "outputs": [
    {
     "name": "stdout",
     "output_type": "stream",
     "text": [
      "   col1  col2     col3\n",
      "0     1  -1.3  value_1\n",
      "1     4  -1.4  value_2\n",
      "2     0  -2.9  value_3\n",
      "3    10 -10.1  value_2\n",
      "4     9 -20.4  value_1\n",
      "5  <NA> -10.0  value_1\n"
     ]
    }
   ],
   "source": [
    "# Define the schema.\n",
    "\n",
    "schema = pa.DataFrameSchema({\n",
    "    \"col1\": pa.Column(pd.Int64Dtype(), checks=pa.Check.le(10), nullable=True),\n",
    "    \"col2\": pa.Column(float, checks=pa.Check.lt(-1.2, ignore_na=True)),\n",
    "    \"col3\": pa.Column(str, checks=[\n",
    "        pa.Check.str_startswith(\"value_\"),\n",
    "        pa.Check(lambda s: s.str.split(\"_\", expand=True).shape[1] == 2)\n",
    "    ])\n",
    "})\n",
    "\n",
    "validated_df = schema(df)\n",
    "print(validated_df)"
   ]
  },
  {
   "cell_type": "code",
   "execution_count": 34,
   "metadata": {},
   "outputs": [
    {
     "data": {
      "text/html": [
       "<div>\n",
       "<style scoped>\n",
       "    .dataframe tbody tr th:only-of-type {\n",
       "        vertical-align: middle;\n",
       "    }\n",
       "\n",
       "    .dataframe tbody tr th {\n",
       "        vertical-align: top;\n",
       "    }\n",
       "\n",
       "    .dataframe thead th {\n",
       "        text-align: right;\n",
       "    }\n",
       "</style>\n",
       "<table border=\"1\" class=\"dataframe\">\n",
       "  <thead>\n",
       "    <tr style=\"text-align: right;\">\n",
       "      <th></th>\n",
       "      <th>col1</th>\n",
       "      <th>col2</th>\n",
       "      <th>col3</th>\n",
       "    </tr>\n",
       "  </thead>\n",
       "  <tbody>\n",
       "    <tr>\n",
       "      <th>0</th>\n",
       "      <td>1</td>\n",
       "      <td>-1.3</td>\n",
       "      <td>value_1</td>\n",
       "    </tr>\n",
       "    <tr>\n",
       "      <th>1</th>\n",
       "      <td>4</td>\n",
       "      <td>-1.4</td>\n",
       "      <td>value_2</td>\n",
       "    </tr>\n",
       "    <tr>\n",
       "      <th>2</th>\n",
       "      <td>0</td>\n",
       "      <td>-2.9</td>\n",
       "      <td>value_3</td>\n",
       "    </tr>\n",
       "    <tr>\n",
       "      <th>3</th>\n",
       "      <td>10</td>\n",
       "      <td>-10.1</td>\n",
       "      <td>value_2</td>\n",
       "    </tr>\n",
       "    <tr>\n",
       "      <th>4</th>\n",
       "      <td>9</td>\n",
       "      <td>-20.4</td>\n",
       "      <td>value_1</td>\n",
       "    </tr>\n",
       "    <tr>\n",
       "      <th>5</th>\n",
       "      <td>&lt;NA&gt;</td>\n",
       "      <td>-10.0</td>\n",
       "      <td>value_1</td>\n",
       "    </tr>\n",
       "  </tbody>\n",
       "</table>\n",
       "</div>"
      ],
      "text/plain": [
       "   col1  col2     col3\n",
       "0     1  -1.3  value_1\n",
       "1     4  -1.4  value_2\n",
       "2     0  -2.9  value_3\n",
       "3    10 -10.1  value_2\n",
       "4     9 -20.4  value_1\n",
       "5  <NA> -10.0  value_1"
      ]
     },
     "execution_count": 34,
     "metadata": {},
     "output_type": "execute_result"
    }
   ],
   "source": [
    "# Alternatively, you could do a dataframe model.\n",
    "\n",
    "from pandera.typing import Series\n",
    "\n",
    "class Schema(pa.DataFrameModel):\n",
    "    col1: pd.Int64Dtype() = pa.Field(le=10, nullable=True)\n",
    "    col2: float = pa.Field(lt=-1.2)\n",
    "    col3: str = pa.Field(str_startswith=\"value_\")\n",
    "\n",
    "    @pa.check(\"col3\")\n",
    "    def col_3_check(cls, series: Series[str]) -> Series[bool]:\n",
    "        return series.str.split(\"_\", expand=True).shape[1] == 2\n",
    "    \n",
    "Schema.validate(df)"
   ]
  }
 ],
 "metadata": {
  "kernelspec": {
   "display_name": "base",
   "language": "python",
   "name": "python3"
  },
  "language_info": {
   "codemirror_mode": {
    "name": "ipython",
    "version": 3
   },
   "file_extension": ".py",
   "mimetype": "text/x-python",
   "name": "python",
   "nbconvert_exporter": "python",
   "pygments_lexer": "ipython3",
   "version": "3.10.12"
  }
 },
 "nbformat": 4,
 "nbformat_minor": 2
}
