{
 "cells": [
  {
   "cell_type": "code",
   "execution_count": 1,
   "metadata": {},
   "outputs": [],
   "source": [
    "import polars as pl\n",
    "from sklearn.model_selection import train_test_split"
   ]
  },
  {
   "cell_type": "code",
   "execution_count": 2,
   "metadata": {},
   "outputs": [],
   "source": [
    "df = pl.read_csv(\"./datasets/penguins.csv\", null_values=[\"NA\"], dtypes={\"year\": str})\n",
    "df = df.drop_nulls(subset=[\"sex\"])\n",
    "\n",
    "x = df.drop(\"sex\")\n",
    "y = df.select((pl.col(\"sex\") == \"male\").alias(\"target\").cast(int))\n",
    "\n",
    "# A weird quirk for sklearn.\n",
    "y = y.to_numpy().ravel()\n",
    "\n",
    "x_train, x_test, y_train, y_test = train_test_split(\n",
    "    x, y, test_size=0.33, random_state=1234\n",
    ")"
   ]
  },
  {
   "cell_type": "code",
   "execution_count": 3,
   "metadata": {},
   "outputs": [],
   "source": [
    "from sklearn.compose import ColumnTransformer\n",
    "from sklearn.impute import SimpleImputer\n",
    "from sklearn.pipeline import Pipeline\n",
    "from sklearn.preprocessing import OneHotEncoder, StandardScaler"
   ]
  },
  {
   "cell_type": "code",
   "execution_count": 4,
   "metadata": {},
   "outputs": [
    {
     "name": "stdout",
     "output_type": "stream",
     "text": [
      "['numeric__bill_length_mm' 'numeric__bill_depth_mm'\n",
      " 'numeric__flipper_length_mm' 'numeric__body_mass_g'\n",
      " 'categorical__species_Adelie' 'categorical__species_Chinstrap'\n",
      " 'categorical__species_Gentoo' 'categorical__island_Biscoe'\n",
      " 'categorical__island_Dream' 'categorical__island_Torgersen'\n",
      " 'categorical__year_2007' 'categorical__year_2008'\n",
      " 'categorical__year_2009']\n",
      "\n",
      "[[-1.00173392  0.34890155 -1.47813963 ...  1.          0.\n",
      "   0.        ]\n",
      " [ 0.00368887  0.08989674  1.22603896 ...  0.          1.\n",
      "   0.        ]\n",
      " [-0.4716019   1.17771697 -0.26837552 ...  0.          1.\n",
      "   0.        ]\n",
      " ...\n",
      " [ 1.53924369  1.48852275  0.22976264 ...  0.          1.\n",
      "   0.        ]\n",
      " [ 0.93599001 -0.47991386  1.9376649  ...  0.          1.\n",
      "   0.        ]\n",
      " [ 0.46069923 -0.27271    -0.69535109 ...  0.          1.\n",
      "   0.        ]]\n"
     ]
    }
   ],
   "source": [
    "# Make pipelines for specific columns.\n",
    "cols_numeric = [\"bill_length_mm\", \"bill_depth_mm\", \"flipper_length_mm\", \"body_mass_g\"]\n",
    "pipeline_numeric = Pipeline(\n",
    "    [\n",
    "        (\"impute_w_mean\", SimpleImputer(strategy=\"mean\")),\n",
    "        (\"scale_normal\", StandardScaler()),\n",
    "    ]\n",
    ")\n",
    "\n",
    "cols_categorical = [\"species\", \"island\", \"year\"]\n",
    "pipeline_categorical = Pipeline(\n",
    "    [\n",
    "        (\"impute_w_most_frequent\", SimpleImputer(strategy=\"most_frequent\")),\n",
    "        (\"one_hot_encode\", OneHotEncoder(handle_unknown=\"ignore\", sparse_output=False)),\n",
    "    ]\n",
    ")\n",
    "\n",
    "# Put it all together into a transformer.\n",
    "preprocessing_transformer = ColumnTransformer(\n",
    "    [\n",
    "        (\"numeric\", pipeline_numeric, cols_numeric),\n",
    "        (\"categorical\", pipeline_categorical, cols_categorical),\n",
    "    ]\n",
    ")\n",
    "\n",
    "# Fit the transformer with training data.\n",
    "preprocessing_transformer.fit(x_train, y_train)\n",
    "\n",
    "# ---\n",
    "print(preprocessing_transformer.get_feature_names_out(), end=\"\\n\\n\")\n",
    "print(preprocessing_transformer.fit_transform(x_train, y_train))"
   ]
  },
  {
   "cell_type": "code",
   "execution_count": 5,
   "metadata": {},
   "outputs": [],
   "source": [
    "from sklearn.ensemble import RandomForestClassifier\n",
    "\n",
    "# Make a RF Classifier and pipeline it with the preprocessor.\n",
    "rf_clf = RandomForestClassifier()\n",
    "\n",
    "preprocess_model_pipeline = Pipeline(\n",
    "    [(\"preprocessing\", preprocessing_transformer), (\"classifier\", rf_clf)]\n",
    ")\n",
    "\n",
    "preprocess_model_pipeline.fit(x_train, y_train)\n",
    "y_predicted = preprocess_model_pipeline.predict(x_test)\n",
    "\n"
   ]
  },
  {
   "cell_type": "code",
   "execution_count": 6,
   "metadata": {},
   "outputs": [
    {
     "name": "stdout",
     "output_type": "stream",
     "text": [
      "('accuracy', 0.9)\n",
      "('precision', 0.8627450980392157)\n",
      "('recall', 0.9166666666666666)\n",
      "('f1', 0.8888888888888888)\n"
     ]
    }
   ],
   "source": [
    "from sklearn.metrics import accuracy_score, f1_score, precision_score, recall_score\n",
    "\n",
    "scores = [\n",
    "    (\"accuracy\", accuracy_score(y_test, y_predicted)),\n",
    "    (\"precision\", precision_score(y_test, y_predicted)),\n",
    "    (\"recall\", recall_score(y_test, y_predicted)),\n",
    "    (\"f1\", f1_score(y_test, y_predicted)),\n",
    "]\n",
    "\n",
    "for score in scores:\n",
    "    print(score)"
   ]
  }
 ],
 "metadata": {
  "kernelspec": {
   "display_name": ".venv",
   "language": "python",
   "name": "python3"
  },
  "language_info": {
   "codemirror_mode": {
    "name": "ipython",
    "version": 3
   },
   "file_extension": ".py",
   "mimetype": "text/x-python",
   "name": "python",
   "nbconvert_exporter": "python",
   "pygments_lexer": "ipython3",
   "version": "3.10.13"
  }
 },
 "nbformat": 4,
 "nbformat_minor": 2
}
