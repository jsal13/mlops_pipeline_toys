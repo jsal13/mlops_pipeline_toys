{
 "cells": [
  {
   "cell_type": "markdown",
   "metadata": {},
   "source": [
    "# Attrs\n",
    "> attrs is the Python package that will bring back the joy of writing classes by relieving you from the drudgery of implementing object protocols (aka dunder methods).\n",
    "> \n",
    "> Its main goal is to help you to write concise and correct software without slowing down your code.\n",
    "\n",
    "**REF**: https://www.attrs.org/en/stable/index.html\n",
    "\n",
    "## Last Updated\n",
    "\n",
    "2023-11-18"
   ]
  },
  {
   "cell_type": "code",
   "execution_count": 3,
   "metadata": {},
   "outputs": [],
   "source": [
    "from attrs import define, field"
   ]
  },
  {
   "cell_type": "code",
   "execution_count": 2,
   "metadata": {},
   "outputs": [
    {
     "name": "stdout",
     "output_type": "stream",
     "text": [
      "Empty()\n",
      "True\n",
      "False\n"
     ]
    }
   ],
   "source": [
    "# Differentiation of Objects!\n",
    "\n",
    "\n",
    "@define\n",
    "class Empty:\n",
    "    pass\n",
    "\n",
    "\n",
    "print(Empty())\n",
    "print(Empty() == Empty())\n",
    "print(Empty() is Empty())"
   ]
  },
  {
   "cell_type": "code",
   "execution_count": 6,
   "metadata": {},
   "outputs": [
    {
     "name": "stdout",
     "output_type": "stream",
     "text": [
      "Coordinates(x=1, y=2)\n",
      "Coordinates(x=-2, y=0)\n",
      "False\n"
     ]
    }
   ],
   "source": [
    "# Basic Example\n",
    "\n",
    "\n",
    "@define\n",
    "class Coordinates:\n",
    "    x: int\n",
    "    y: int\n",
    "\n",
    "\n",
    "c1 = Coordinates(1, 2)\n",
    "c2 = Coordinates(x=-2, y=0)\n",
    "\n",
    "print(c1)\n",
    "print(c2)\n",
    "print(c1 == c2)"
   ]
  },
  {
   "cell_type": "code",
   "execution_count": 51,
   "metadata": {},
   "outputs": [
    {
     "name": "stdout",
     "output_type": "stream",
     "text": [
      "C(_x=1)\n",
      "C.__init__() got an unexpected keyword argument '_x'\n"
     ]
    }
   ],
   "source": [
    "# Private attributes!\n",
    "\n",
    "\n",
    "@define\n",
    "class C:\n",
    "    _x: int\n",
    "\n",
    "\n",
    "c1 = C(x=1)  # !!\n",
    "print(c1)\n",
    "\n",
    "try:\n",
    "    c2 = C(_x=1)  # This breaks!\n",
    "except TypeError as e:\n",
    "    print(e)"
   ]
  },
  {
   "cell_type": "code",
   "execution_count": 52,
   "metadata": {},
   "outputs": [
    {
     "name": "stdout",
     "output_type": "stream",
     "text": [
      "C(_x=42)\n",
      "C.__init__() takes 1 positional argument but 2 were given\n"
     ]
    }
   ],
   "source": [
    "# Don't allow the user to init a var!\n",
    "\n",
    "\n",
    "@define\n",
    "class C:\n",
    "    _x: int = field(init=False, default=42)\n",
    "\n",
    "\n",
    "print(C())\n",
    "\n",
    "try:\n",
    "    print(C(23))\n",
    "except TypeError as e:\n",
    "    print(e)"
   ]
  },
  {
   "cell_type": "code",
   "execution_count": 12,
   "metadata": {},
   "outputs": [
    {
     "data": {
      "text/plain": [
       "C(_x=1)"
      ]
     },
     "execution_count": 12,
     "metadata": {},
     "output_type": "execute_result"
    }
   ],
   "source": [
    "# Okay, but I like exposing my privates.\n",
    "\n",
    "\n",
    "@define\n",
    "class C:\n",
    "    _x: int = field(alias=\"_x\")\n",
    "\n",
    "\n",
    "C(_x=1)  # Works now!"
   ]
  },
  {
   "cell_type": "code",
   "execution_count": 14,
   "metadata": {},
   "outputs": [
    {
     "data": {
      "text/plain": [
       "SomethingFromSomeoneElse(x=1)"
      ]
     },
     "execution_count": 14,
     "metadata": {},
     "output_type": "execute_result"
    }
   ],
   "source": [
    "# Here's another way to do attrs with a class you can't directly access (eg, Django).\n",
    "\n",
    "\n",
    "class SomethingFromSomeoneElse:\n",
    "    def __init__(self, x):\n",
    "        self.x = x\n",
    "\n",
    "\n",
    "SomethingFromSomeoneElse = define(these={\"x\": field()}, init=False)(\n",
    "    SomethingFromSomeoneElse\n",
    ")\n",
    "\n",
    "SomethingFromSomeoneElse(1)"
   ]
  },
  {
   "cell_type": "code",
   "execution_count": 53,
   "metadata": {},
   "outputs": [
    {
     "name": "stdout",
     "output_type": "stream",
     "text": [
      "A.__init__() takes 1 positional argument but 2 were given\n"
     ]
    },
    {
     "data": {
      "text/plain": [
       "A(a=1)"
      ]
     },
     "execution_count": 53,
     "metadata": {},
     "output_type": "execute_result"
    }
   ],
   "source": [
    "# Keyword-only Attributes\n",
    "\n",
    "\n",
    "@define\n",
    "class A:\n",
    "    a: int = field(kw_only=True)\n",
    "\n",
    "\n",
    "try:\n",
    "    A(1)\n",
    "except TypeError as e:\n",
    "    print(e)\n",
    "\n",
    "A(a=1)"
   ]
  },
  {
   "cell_type": "code",
   "execution_count": 50,
   "metadata": {},
   "outputs": [
    {
     "name": "stdout",
     "output_type": "stream",
     "text": [
      "A.__init__() takes 1 positional argument but 3 were given\n"
     ]
    },
    {
     "data": {
      "text/plain": [
       "A(a=1, b=2)"
      ]
     },
     "execution_count": 50,
     "metadata": {},
     "output_type": "execute_result"
    }
   ],
   "source": [
    "# But I'm so lazy, and I want all the things to be kw_only.\n",
    "\n",
    "\n",
    "@define(kw_only=True)\n",
    "class A:\n",
    "    a: int\n",
    "    b: int\n",
    "\n",
    "\n",
    "try:\n",
    "    A(1, 2)\n",
    "except TypeError as e:\n",
    "    print(e)\n",
    "\n",
    "A(a=1, b=2)"
   ]
  },
  {
   "cell_type": "code",
   "execution_count": 21,
   "metadata": {},
   "outputs": [
    {
     "data": {
      "text/plain": [
       "{'x': 1, 'y': 2}"
      ]
     },
     "execution_count": 21,
     "metadata": {},
     "output_type": "execute_result"
    }
   ],
   "source": [
    "# I want a dict from my class.\n",
    "\n",
    "from attrs import asdict\n",
    "\n",
    "asdict(Coordinates(x=1, y=2))"
   ]
  },
  {
   "cell_type": "code",
   "execution_count": 28,
   "metadata": {},
   "outputs": [
    {
     "name": "stdout",
     "output_type": "stream",
     "text": [
      "UserList(users=[User(email='jane@doe.invalid', password='s33kred'), User(email='joe@doe.invalid', password='p4ssw0rd')])\n",
      "{'users': [{'email': 'jane@doe.invalid', 'password': 's33kred'}, {'email': 'joe@doe.invalid', 'password': 'p4ssw0rd'}]}\n",
      "{'users': [{'email': 'jane@doe.invalid'}, {'email': 'joe@doe.invalid'}]}\n"
     ]
    }
   ],
   "source": [
    "# But my field is sensitive.  What can I do for that...?\n",
    "\n",
    "\n",
    "@define\n",
    "class User:\n",
    "    email: str\n",
    "    password: str\n",
    "\n",
    "\n",
    "@define\n",
    "class UserList:\n",
    "    users: list[User]\n",
    "\n",
    "\n",
    "users = [User(\"jane@doe.invalid\", \"s33kred\"), User(\"joe@doe.invalid\", \"p4ssw0rd\")]\n",
    "user_list = UserList(users=users)\n",
    "\n",
    "print(user_list)\n",
    "print(asdict(user_list))\n",
    "print(\n",
    "    asdict(user_list, filter=lambda attr, value: attr.name != \"password\")\n",
    ")  # no password field."
   ]
  },
  {
   "cell_type": "code",
   "execution_count": 40,
   "metadata": {},
   "outputs": [
    {
     "data": {
      "text/plain": [
       "{'login': 'jane', 'email': 'jane@example.com'}"
      ]
     },
     "execution_count": 40,
     "metadata": {},
     "output_type": "execute_result"
    }
   ],
   "source": [
    "from attrs import asdict, filters, fields\n",
    "\n",
    "\n",
    "@define\n",
    "class User:\n",
    "    login: str\n",
    "    password: str\n",
    "    email: str\n",
    "    id: int\n",
    "\n",
    "\n",
    "user_jane = User(\"jane\", \"s33kred\", \"jane@example.com\", 42)\n",
    "asdict(\n",
    "    user_jane, filter=filters.exclude(fields(User).password, int)\n",
    ")  # Excludes password, and any int fields."
   ]
  },
  {
   "cell_type": "code",
   "execution_count": 41,
   "metadata": {},
   "outputs": [
    {
     "data": {
      "text/plain": [
       "('jane', 's33kred', 'jane@example.com', 42)"
      ]
     },
     "execution_count": 41,
     "metadata": {},
     "output_type": "execute_result"
    }
   ],
   "source": [
    "# Similarly...\n",
    "\n",
    "from attrs import astuple\n",
    "\n",
    "astuple(user_jane)"
   ]
  },
  {
   "cell_type": "code",
   "execution_count": 44,
   "metadata": {},
   "outputs": [
    {
     "name": "stdout",
     "output_type": "stream",
     "text": [
      "It worked!\n",
      "C(x=41)\n"
     ]
    }
   ],
   "source": [
    "# Validation method 1.\n",
    "\n",
    "\n",
    "@define\n",
    "class C:\n",
    "    x: int = field()\n",
    "\n",
    "    @x.validator\n",
    "    def check(self, attribute, value):\n",
    "        if value > 42:\n",
    "            raise ValueError(\"Oh no dudeee.\")\n",
    "\n",
    "\n",
    "try:\n",
    "    C(100)\n",
    "except ValueError as e:\n",
    "    print(e)\n",
    "\n",
    "print(C(41))"
   ]
  },
  {
   "cell_type": "code",
   "execution_count": 59,
   "metadata": {},
   "outputs": [
    {
     "name": "stdout",
     "output_type": "stream",
     "text": [
      "C(x=4, y=5)\n",
      "'x' has to be leq 42 and 'y'.\n",
      "'x' has to be leq 42 and 'y'.\n",
      "(\"'x' must be <class 'int'> (got 'hi' that is a <class 'str'>).\", Attribute(name='x', default=NOTHING, validator=_AndValidator(_validators=(<instance_of validator for type <class 'int'>>, <function x_not_greater_than_42_or_y at 0x7fa167db6cb0>)), repr=True, eq=True, eq_key=None, order=True, order_key=None, hash=None, init=True, metadata=mappingproxy({}), type=<class 'int'>, converter=None, kw_only=False, inherited=False, on_setattr=None, alias='x'), <class 'int'>, 'hi')\n",
      "'x' has to be leq 42 and 'y'.\n"
     ]
    }
   ],
   "source": [
    "# Validation Method 2.\n",
    "\n",
    "from attrs import validators\n",
    "\n",
    "\n",
    "def x_not_greater_than_42_or_y(instance, attribute, value):\n",
    "    if (value > 42) or (value > instance.y):\n",
    "        raise ValueError(\"'x' has to be leq 42 and 'y'.\")\n",
    "\n",
    "\n",
    "@define\n",
    "class C:\n",
    "    x: int = field(validator=[validators.instance_of(int), x_not_greater_than_42_or_y])\n",
    "    y: int\n",
    "\n",
    "\n",
    "print(C(x=4, y=5))\n",
    "\n",
    "try:\n",
    "    C(x=43, y=55)\n",
    "except ValueError as e:\n",
    "    print(e)\n",
    "\n",
    "try:\n",
    "    C(x=41, y=40)\n",
    "except ValueError as e:\n",
    "    print(e)\n",
    "\n",
    "try:\n",
    "    C(x=\"hi\", y=20)\n",
    "except TypeError as e:\n",
    "    print(e)\n",
    "\n",
    "c_example = C(x=1, y=2)\n",
    "try:\n",
    "    c_example.x = 3  # Validation on setting.\n",
    "except ValueError as e:\n",
    "    print(e)"
   ]
  },
  {
   "cell_type": "code",
   "execution_count": null,
   "metadata": {},
   "outputs": [],
   "source": []
  }
 ],
 "metadata": {
  "kernelspec": {
   "display_name": "base",
   "language": "python",
   "name": "python3"
  },
  "language_info": {
   "codemirror_mode": {
    "name": "ipython",
    "version": 3
   },
   "file_extension": ".py",
   "mimetype": "text/x-python",
   "name": "python",
   "nbconvert_exporter": "python",
   "pygments_lexer": "ipython3",
   "version": "3.10.12"
  }
 },
 "nbformat": 4,
 "nbformat_minor": 2
}
