{
 "cells": [
  {
   "cell_type": "code",
   "execution_count": 12,
   "metadata": {},
   "outputs": [],
   "source": [
    "import pandas as pd\n",
    "import psycopg\n",
    "import altair as alt"
   ]
  },
  {
   "cell_type": "code",
   "execution_count": 2,
   "metadata": {},
   "outputs": [
    {
     "name": "stderr",
     "output_type": "stream",
     "text": [
      "/tmp/ipykernel_6258/3267091148.py:6: UserWarning: pandas only supports SQLAlchemy connectable (engine/connection) or database string URI or sqlite3 DBAPI2 connection. Other DBAPI2 objects are not tested. Please consider using SQLAlchemy.\n",
      "  df = pd.read_sql(sql=\"SELECT * FROM events;\", con=conn)\n"
     ]
    }
   ],
   "source": [
    "PG_CONNECTION_STRING = (\n",
    "    \"postgresql://localhost:5432/postgres?user=postgres&password=example\"\n",
    ")\n",
    "conn = psycopg.connect(conninfo=PG_CONNECTION_STRING)\n",
    "with conn:  # pylint: disable=not-context-manager\n",
    "    df = pd.read_sql(sql=\"SELECT * FROM events;\", con=conn)"
   ]
  },
  {
   "cell_type": "code",
   "execution_count": 11,
   "metadata": {},
   "outputs": [],
   "source": [
    "df1 = df.drop(\"id\", axis=1)\n",
    "df2 = df1[df1[\"sensor_id\"] == 1][[\"dt\", \"value_1\", \"value_2\", \"value_3\", \"heat_index\"]]"
   ]
  },
  {
   "cell_type": "code",
   "execution_count": 27,
   "metadata": {},
   "outputs": [],
   "source": [
    "c1 = alt.Chart(df2).mark_line(color=\"rgb(0, 0, 255)\").encode(x=\"dt:T\", y=\"value_1\")\n",
    "c2 = alt.Chart(df2).mark_line(color=\"rgb(0, 255, 255)\").encode(x=\"dt:T\", y=\"value_2\")\n",
    "c3 = alt.Chart(df2).mark_line(color=\"rgb(255, 0, 255)\").encode(x=\"dt:T\", y=\"value_3\")\n",
    "c4 = alt.Chart(df2).mark_line(color=\"rgb(0, 255, 0)\").encode(x=\"dt:T\", y=\"heat_index\")"
   ]
  },
  {
   "cell_type": "code",
   "execution_count": null,
   "metadata": {},
   "outputs": [],
   "source": []
  },
  {
   "cell_type": "code",
   "execution_count": null,
   "metadata": {},
   "outputs": [],
   "source": []
  }
 ],
 "metadata": {
  "kernelspec": {
   "display_name": ".venv",
   "language": "python",
   "name": "python3"
  },
  "language_info": {
   "codemirror_mode": {
    "name": "ipython",
    "version": 3
   },
   "file_extension": ".py",
   "mimetype": "text/x-python",
   "name": "python",
   "nbconvert_exporter": "python",
   "pygments_lexer": "ipython3",
   "version": "3.10.6"
  },
  "orig_nbformat": 4
 },
 "nbformat": 4,
 "nbformat_minor": 2
}
